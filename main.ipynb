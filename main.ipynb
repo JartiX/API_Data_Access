{
 "cells": [
  {
   "cell_type": "code",
   "execution_count": 2,
   "metadata": {},
   "outputs": [],
   "source": [
    "import requests\n",
    "import pandas as pd"
   ]
  },
  {
   "cell_type": "code",
   "execution_count": 28,
   "metadata": {},
   "outputs": [],
   "source": [
    "api_key = \"5ZHM042IFQM5PWUB\"\n",
    "symbol = 'IBM'\n",
    "url = f'https://www.alphavantage.co/query?function=TIME_SERIES_DAILY&symbol={symbol}&apikey={api_key}&datatype=json'\n",
    "\n",
    "response = requests.get(url)\n",
    "data = response.json()"
   ]
  },
  {
   "cell_type": "code",
   "execution_count": 30,
   "metadata": {},
   "outputs": [
    {
     "data": {
      "text/html": [
       "<div>\n",
       "<style scoped>\n",
       "    .dataframe tbody tr th:only-of-type {\n",
       "        vertical-align: middle;\n",
       "    }\n",
       "\n",
       "    .dataframe tbody tr th {\n",
       "        vertical-align: top;\n",
       "    }\n",
       "\n",
       "    .dataframe thead th {\n",
       "        text-align: right;\n",
       "    }\n",
       "</style>\n",
       "<table border=\"1\" class=\"dataframe\">\n",
       "  <thead>\n",
       "    <tr style=\"text-align: right;\">\n",
       "      <th></th>\n",
       "      <th>date</th>\n",
       "      <th>open</th>\n",
       "      <th>high</th>\n",
       "      <th>low</th>\n",
       "      <th>close</th>\n",
       "      <th>volume</th>\n",
       "    </tr>\n",
       "  </thead>\n",
       "  <tbody>\n",
       "    <tr>\n",
       "      <th>0</th>\n",
       "      <td>2024-03-21</td>\n",
       "      <td>193.0000</td>\n",
       "      <td>193.3700</td>\n",
       "      <td>190.0100</td>\n",
       "      <td>191.90</td>\n",
       "      <td>6013561</td>\n",
       "    </tr>\n",
       "    <tr>\n",
       "      <th>1</th>\n",
       "      <td>2024-03-20</td>\n",
       "      <td>192.8700</td>\n",
       "      <td>193.9800</td>\n",
       "      <td>191.3100</td>\n",
       "      <td>193.96</td>\n",
       "      <td>3238643</td>\n",
       "    </tr>\n",
       "    <tr>\n",
       "      <th>2</th>\n",
       "      <td>2024-03-19</td>\n",
       "      <td>191.4900</td>\n",
       "      <td>193.5800</td>\n",
       "      <td>190.2800</td>\n",
       "      <td>193.34</td>\n",
       "      <td>5317341</td>\n",
       "    </tr>\n",
       "    <tr>\n",
       "      <th>3</th>\n",
       "      <td>2024-03-18</td>\n",
       "      <td>191.7000</td>\n",
       "      <td>193.2300</td>\n",
       "      <td>190.3200</td>\n",
       "      <td>191.69</td>\n",
       "      <td>5410562</td>\n",
       "    </tr>\n",
       "    <tr>\n",
       "      <th>4</th>\n",
       "      <td>2024-03-15</td>\n",
       "      <td>191.9900</td>\n",
       "      <td>193.0573</td>\n",
       "      <td>190.7000</td>\n",
       "      <td>191.07</td>\n",
       "      <td>8828184</td>\n",
       "    </tr>\n",
       "    <tr>\n",
       "      <th>...</th>\n",
       "      <td>...</td>\n",
       "      <td>...</td>\n",
       "      <td>...</td>\n",
       "      <td>...</td>\n",
       "      <td>...</td>\n",
       "      <td>...</td>\n",
       "    </tr>\n",
       "    <tr>\n",
       "      <th>95</th>\n",
       "      <td>2023-11-02</td>\n",
       "      <td>145.7700</td>\n",
       "      <td>147.1000</td>\n",
       "      <td>144.8400</td>\n",
       "      <td>147.01</td>\n",
       "      <td>3902657</td>\n",
       "    </tr>\n",
       "    <tr>\n",
       "      <th>96</th>\n",
       "      <td>2023-11-01</td>\n",
       "      <td>145.0000</td>\n",
       "      <td>146.5100</td>\n",
       "      <td>144.4500</td>\n",
       "      <td>145.40</td>\n",
       "      <td>4750081</td>\n",
       "    </tr>\n",
       "    <tr>\n",
       "      <th>97</th>\n",
       "      <td>2023-10-31</td>\n",
       "      <td>143.0000</td>\n",
       "      <td>144.7600</td>\n",
       "      <td>142.5900</td>\n",
       "      <td>144.64</td>\n",
       "      <td>6592041</td>\n",
       "    </tr>\n",
       "    <tr>\n",
       "      <th>98</th>\n",
       "      <td>2023-10-30</td>\n",
       "      <td>143.1900</td>\n",
       "      <td>144.5000</td>\n",
       "      <td>142.5800</td>\n",
       "      <td>142.63</td>\n",
       "      <td>4204190</td>\n",
       "    </tr>\n",
       "    <tr>\n",
       "      <th>99</th>\n",
       "      <td>2023-10-27</td>\n",
       "      <td>143.6200</td>\n",
       "      <td>144.7000</td>\n",
       "      <td>141.7100</td>\n",
       "      <td>142.52</td>\n",
       "      <td>5469227</td>\n",
       "    </tr>\n",
       "  </tbody>\n",
       "</table>\n",
       "<p>100 rows × 6 columns</p>\n",
       "</div>"
      ],
      "text/plain": [
       "          date      open      high       low   close   volume\n",
       "0   2024-03-21  193.0000  193.3700  190.0100  191.90  6013561\n",
       "1   2024-03-20  192.8700  193.9800  191.3100  193.96  3238643\n",
       "2   2024-03-19  191.4900  193.5800  190.2800  193.34  5317341\n",
       "3   2024-03-18  191.7000  193.2300  190.3200  191.69  5410562\n",
       "4   2024-03-15  191.9900  193.0573  190.7000  191.07  8828184\n",
       "..         ...       ...       ...       ...     ...      ...\n",
       "95  2023-11-02  145.7700  147.1000  144.8400  147.01  3902657\n",
       "96  2023-11-01  145.0000  146.5100  144.4500  145.40  4750081\n",
       "97  2023-10-31  143.0000  144.7600  142.5900  144.64  6592041\n",
       "98  2023-10-30  143.1900  144.5000  142.5800  142.63  4204190\n",
       "99  2023-10-27  143.6200  144.7000  141.7100  142.52  5469227\n",
       "\n",
       "[100 rows x 6 columns]"
      ]
     },
     "execution_count": 30,
     "metadata": {},
     "output_type": "execute_result"
    }
   ],
   "source": [
    "stock_data = []\n",
    "for date, daily_data in data['Time Series (Daily)'].items():\n",
    "    stock_data.append({\n",
    "        'date': date,\n",
    "        'open': daily_data['1. open'],\n",
    "        'high': daily_data['2. high'],\n",
    "        'low': daily_data['3. low'],\n",
    "        'close': daily_data['4. close'],\n",
    "        'volume': daily_data['5. volume']\n",
    "    })\n",
    "df = pd.DataFrame(stock_data)\n",
    "df['close'] = pd.to_numeric(df['close'], errors='coerce')\n",
    "df"
   ]
  },
  {
   "cell_type": "code",
   "execution_count": 31,
   "metadata": {},
   "outputs": [
    {
     "data": {
      "text/plain": [
       "193.755"
      ]
     },
     "execution_count": 31,
     "metadata": {},
     "output_type": "execute_result"
    }
   ],
   "source": [
    "average_close = df['close'].head(10).mean()\n",
    "average_close"
   ]
  },
  {
   "cell_type": "markdown",
   "metadata": {},
   "source": [
    "Средняя цена закрытия акций за последние 10 дней: 193 доллара"
   ]
  },
  {
   "cell_type": "code",
   "execution_count": 32,
   "metadata": {},
   "outputs": [
    {
     "data": {
      "text/plain": [
       "146.25500000000002"
      ]
     },
     "execution_count": 32,
     "metadata": {},
     "output_type": "execute_result"
    }
   ],
   "source": [
    "average_close = df['close'].tail(10).mean()\n",
    "average_close"
   ]
  },
  {
   "cell_type": "markdown",
   "metadata": {},
   "source": [
    "3 месяца назад средняя цена закрытия акций было 146\n",
    "За эти 3 месяца она выросла приблизительно на 50 долларов"
   ]
  }
 ],
 "metadata": {
  "kernelspec": {
   "display_name": "Python 3",
   "language": "python",
   "name": "python3"
  },
  "language_info": {
   "codemirror_mode": {
    "name": "ipython",
    "version": 3
   },
   "file_extension": ".py",
   "mimetype": "text/x-python",
   "name": "python",
   "nbconvert_exporter": "python",
   "pygments_lexer": "ipython3",
   "version": "3.11.0"
  }
 },
 "nbformat": 4,
 "nbformat_minor": 2
}
